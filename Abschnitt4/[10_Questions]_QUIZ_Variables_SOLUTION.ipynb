{
 "cells": [
  {
   "cell_type": "markdown",
   "id": "posted-mixture",
   "metadata": {},
   "source": [
    "## [10 Questions] QUIZ - Variables - SOLUTION"
   ]
  },
  {
   "cell_type": "markdown",
   "id": "prerequisite-synthesis",
   "metadata": {},
   "source": [
    "#### General Syntax"
   ]
  },
  {
   "cell_type": "markdown",
   "id": "distinct-bottle",
   "metadata": {},
   "source": [
    "**Q 1:**\n",
    "\n",
    "Fill in the blanks to print \"Hello Python\":\n",
    "\n",
    ".....(\"Hello World!\")"
   ]
  },
  {
   "cell_type": "code",
   "execution_count": 1,
   "id": "biological-poison",
   "metadata": {},
   "outputs": [
    {
     "name": "stdout",
     "output_type": "stream",
     "text": [
      "Hello World!\n"
     ]
    }
   ],
   "source": [
    "# S 1:\n",
    "\n",
    "print(\"Hello World!\")"
   ]
  },
  {
   "cell_type": "markdown",
   "id": "active-separation",
   "metadata": {},
   "source": [
    "---"
   ]
  },
  {
   "cell_type": "markdown",
   "id": "strong-supplier",
   "metadata": {},
   "source": [
    "**Q 2:**\n",
    "Fix the typo (coding error) below:\n",
    "\n",
    "<pre>\n",
    "print(\"Alice's Adventures')\n",
    "</pre>"
   ]
  },
  {
   "cell_type": "code",
   "execution_count": 2,
   "id": "particular-swedish",
   "metadata": {},
   "outputs": [
    {
     "name": "stdout",
     "output_type": "stream",
     "text": [
      "Alice's Adventures\n"
     ]
    }
   ],
   "source": [
    "# S 2:\n",
    "\n",
    "print(\"Alice's Adventures\")"
   ]
  },
  {
   "cell_type": "markdown",
   "id": "rolled-syndicate",
   "metadata": {},
   "source": [
    "---"
   ]
  },
  {
   "cell_type": "markdown",
   "id": "moving-candidate",
   "metadata": {},
   "source": [
    "**Q 3:**\n",
    "\n",
    "Convert below line into a Comment Line.\n",
    "(One line comment)\n",
    "\n",
    "I am a Comment Line :)"
   ]
  },
  {
   "cell_type": "code",
   "execution_count": 3,
   "id": "framed-swedish",
   "metadata": {},
   "outputs": [],
   "source": [
    "# S 3:\n",
    "\n",
    "# I am a Comment Line :)"
   ]
  },
  {
   "cell_type": "markdown",
   "id": "dimensional-setting",
   "metadata": {},
   "source": [
    "---"
   ]
  },
  {
   "cell_type": "markdown",
   "id": "pleased-michael",
   "metadata": {},
   "source": [
    "**Q 4:**\n",
    "\n",
    "Convert below lines into comment line. (multi-line comment)\n",
    "\n",
    "<pre>\n",
    "This comment line\n",
    "Is multiple lines comment\n",
    "Not just one...\n",
    "</pre>"
   ]
  },
  {
   "cell_type": "code",
   "execution_count": 4,
   "id": "danish-connecticut",
   "metadata": {},
   "outputs": [
    {
     "data": {
      "text/plain": "'\\nThis comment line\\nIs multiple lines comment\\nNot just one...\\n'"
     },
     "execution_count": 4,
     "metadata": {},
     "output_type": "execute_result"
    }
   ],
   "source": [
    "# S 4:\n",
    "\n",
    "\"\"\"\n",
    "This comment line\n",
    "Is multiple lines comment\n",
    "Not just one...\n",
    "\"\"\""
   ]
  },
  {
   "cell_type": "markdown",
   "id": "entire-essay",
   "metadata": {},
   "source": [
    "---"
   ]
  },
  {
   "cell_type": "markdown",
   "id": "considerable-theology",
   "metadata": {},
   "source": [
    "**Q 5:**\n",
    "\n",
    "Print the text below exactly as it is shown.\n",
    "\n",
    "<pre>\n",
    "Who in the world am I?\n",
    "    Ah, that's the great puzzle!\n",
    "        'Alice in Wonderland'\n",
    "</pre>"
   ]
  },
  {
   "cell_type": "code",
   "execution_count": 5,
   "id": "geographic-scheme",
   "metadata": {},
   "outputs": [
    {
     "name": "stdout",
     "output_type": "stream",
     "text": [
      "Who in the world am I?\n",
      "    Ah, that's the great puzzle!\n",
      "        'Alice in Wonderland'\n"
     ]
    }
   ],
   "source": [
    "# S 5:\n",
    "\n",
    "# 1st Way\n",
    "# shortcut for comment -> Ctr + /\n",
    "# print(\"\"\"\n",
    "# Who in the world am I?\n",
    "#     Ah, that's the great puzzle!\n",
    "#         'Alice in Wonderland'\n",
    "# \"\"\")\n",
    "\n",
    "# 2nd Way\n",
    "print(\"Who in the world am I?\")\n",
    "print(\"    Ah, that's the great puzzle!\")\n",
    "print(\"        'Alice in Wonderland'\")\n"
   ]
  },
  {
   "cell_type": "markdown",
   "id": "heated-visibility",
   "metadata": {},
   "source": [
    "---"
   ]
  },
  {
   "cell_type": "markdown",
   "id": "equal-object",
   "metadata": {},
   "source": [
    "#### Python Variables"
   ]
  },
  {
   "cell_type": "markdown",
   "id": "primary-adobe",
   "metadata": {},
   "source": [
    "**Q 1:**\n",
    "\n",
    "Create a variable named car_model and assign the value 'Volvo' to it."
   ]
  },
  {
   "cell_type": "code",
   "execution_count": 6,
   "id": "virgin-trigger",
   "metadata": {},
   "outputs": [
    {
     "data": {
      "text/plain": "'Volvo'"
     },
     "execution_count": 6,
     "metadata": {},
     "output_type": "execute_result"
    }
   ],
   "source": [
    "# S 1:\n",
    "\n",
    "car_model = 'Volvo'\n",
    "car_model"
   ]
  },
  {
   "cell_type": "markdown",
   "id": "senior-script",
   "metadata": {},
   "source": [
    "---"
   ]
  },
  {
   "cell_type": "markdown",
   "id": "authorized-daisy",
   "metadata": {},
   "source": [
    "**Q 2:**\n",
    "\n",
    "Create a variable named x and set its value to 50."
   ]
  },
  {
   "cell_type": "code",
   "execution_count": 7,
   "id": "secret-sally",
   "metadata": {},
   "outputs": [
    {
     "data": {
      "text/plain": "50"
     },
     "execution_count": 7,
     "metadata": {},
     "output_type": "execute_result"
    }
   ],
   "source": [
    "# S 2:\n",
    "\n",
    "x = 50\n",
    "x"
   ]
  },
  {
   "cell_type": "markdown",
   "id": "aerial-congress",
   "metadata": {},
   "source": [
    "---"
   ]
  },
  {
   "cell_type": "markdown",
   "id": "magnetic-apparatus",
   "metadata": {},
   "source": [
    "**Q 3:**\n",
    "\n",
    "Create two varibles x and y. And assing them as 20 and 50 respectively.\n",
    "\n",
    "Create a variable z, and assign x + y to it.\n",
    "\n",
    "Then print z.\n",
    "\n",
    "<pre>\n",
    "x = 20\n",
    "y = 80\n",
    "\n",
    "... = x + y\n",
    "print(...)\n",
    "</pre>"
   ]
  },
  {
   "cell_type": "code",
   "execution_count": 8,
   "id": "emerging-sandwich",
   "metadata": {},
   "outputs": [
    {
     "name": "stdout",
     "output_type": "stream",
     "text": [
      "100\n"
     ]
    }
   ],
   "source": [
    "# S 3:\n",
    "\n",
    "x = 20\n",
    "y = 80\n",
    "\n",
    "z = x + y\n",
    "print(z)"
   ]
  },
  {
   "cell_type": "markdown",
   "id": "olympic-praise",
   "metadata": {},
   "source": [
    "---"
   ]
  },
  {
   "cell_type": "markdown",
   "id": "generous-revelation",
   "metadata": {},
   "source": [
    "**Q 4:**\n",
    "\n",
    "Remove forbidden characters from the variable name.\n",
    "\n",
    "**2my-first_variable*β = \"Beta\"**"
   ]
  },
  {
   "cell_type": "code",
   "execution_count": 9,
   "id": "preliminary-quantity",
   "metadata": {},
   "outputs": [
    {
     "name": "stdout",
     "output_type": "stream",
     "text": [
      "Beta\n"
     ]
    }
   ],
   "source": [
    "# S 4:\n",
    "\n",
    "my_first_variable = \"Beta\"\n",
    "print(my_first_variable)"
   ]
  },
  {
   "cell_type": "markdown",
   "id": "pacific-finding",
   "metadata": {},
   "source": [
    "---"
   ]
  },
  {
   "cell_type": "markdown",
   "id": "prescribed-soundtrack",
   "metadata": {},
   "source": [
    "**Q 5:**\n",
    "\n",
    "Fill in the blanks to assign three variables at the same time.\n",
    "\n",
    "x ... y ... z = \"Python\""
   ]
  },
  {
   "cell_type": "code",
   "execution_count": 10,
   "id": "intense-authentication",
   "metadata": {},
   "outputs": [
    {
     "name": "stdout",
     "output_type": "stream",
     "text": [
      "Python\n",
      "Python\n",
      "Python\n"
     ]
    }
   ],
   "source": [
    "# S 5:\n",
    "\n",
    "# x = 'Python'\n",
    "# y = 'Python'\n",
    "# z = 'Python'\n",
    "\n",
    "x = y = z = 'Python'\n",
    "\n",
    "print(x)\n",
    "print(y)\n",
    "print(z)"
   ]
  },
  {
   "cell_type": "code",
   "execution_count": null,
   "id": "virgin-tender",
   "metadata": {},
   "outputs": [],
   "source": []
  }
 ],
 "metadata": {
  "kernelspec": {
   "display_name": "Python 3",
   "language": "python",
   "name": "python3"
  },
  "language_info": {
   "codemirror_mode": {
    "name": "ipython",
    "version": 3
   },
   "file_extension": ".py",
   "mimetype": "text/x-python",
   "name": "python",
   "nbconvert_exporter": "python",
   "pygments_lexer": "ipython3",
   "version": "3.8.8"
  }
 },
 "nbformat": 4,
 "nbformat_minor": 5
}